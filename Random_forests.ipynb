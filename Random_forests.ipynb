{
 "cells": [
  {
   "cell_type": "code",
   "execution_count": 1,
   "id": "bcf20a92",
   "metadata": {},
   "outputs": [],
   "source": [
    "import pandas as pd\n",
    "from sklearn.ensemble import RandomForestClassifier\n",
    "from sklearn.model_selection import train_test_split\n",
    "from sklearn.metrics import accuracy_score, classification_report, confusion_matrix\n"
   ]
  },
  {
   "cell_type": "code",
   "execution_count": 2,
   "id": "ded5c7ef",
   "metadata": {},
   "outputs": [],
   "source": [
    "categorical_data = pd.read_csv('categorical.csv')\n",
    "numerical_data = pd.read_csv('numerical.csv')\n",
    "target_data = pd.read_csv('target.csv')"
   ]
  },
  {
   "cell_type": "code",
   "execution_count": 5,
   "id": "492c2697",
   "metadata": {},
   "outputs": [
    {
     "data": {
      "text/plain": [
       "Index(['STATE', 'CLUSTER', 'HOMEOWNR', 'GENDER', 'DATASRCE', 'RFA_2R',\n",
       "       'RFA_2A', 'GEOCODE2', 'DOMAIN_A', 'DOMAIN_B', 'ODATEW_YR', 'ODATEW_MM',\n",
       "       'DOB_YR', 'DOB_MM', 'MINRDATE_YR', 'MINRDATE_MM', 'MAXRDATE_YR',\n",
       "       'MAXRDATE_MM', 'LASTDATE_YR', 'LASTDATE_MM', 'FIRSTDATE_YR',\n",
       "       'FIRSTDATE_MM'],\n",
       "      dtype='object')"
      ]
     },
     "execution_count": 5,
     "metadata": {},
     "output_type": "execute_result"
    }
   ],
   "source": [
    "categorical_data.columns"
   ]
  },
  {
   "cell_type": "code",
   "execution_count": 6,
   "id": "1439070f",
   "metadata": {},
   "outputs": [
    {
     "data": {
      "text/plain": [
       "Index(['TCODE', 'AGE', 'INCOME', 'WEALTH1', 'HIT', 'MALEMILI', 'MALEVET',\n",
       "       'VIETVETS', 'WWIIVETS', 'LOCALGOV',\n",
       "       ...\n",
       "       'CARDGIFT', 'MINRAMNT', 'MAXRAMNT', 'LASTGIFT', 'TIMELAG', 'AVGGIFT',\n",
       "       'CONTROLN', 'HPHONE_D', 'RFA_2F', 'CLUSTER2'],\n",
       "      dtype='object', length=315)"
      ]
     },
     "execution_count": 6,
     "metadata": {},
     "output_type": "execute_result"
    }
   ],
   "source": [
    "numerical_data.columns"
   ]
  },
  {
   "cell_type": "code",
   "execution_count": 7,
   "id": "a0f838b1",
   "metadata": {},
   "outputs": [
    {
     "data": {
      "text/plain": [
       "Index(['TARGET_B', 'TARGET_D'], dtype='object')"
      ]
     },
     "execution_count": 7,
     "metadata": {},
     "output_type": "execute_result"
    }
   ],
   "source": [
    "target_data.columns"
   ]
  },
  {
   "cell_type": "code",
   "execution_count": 9,
   "id": "14c29bbb",
   "metadata": {},
   "outputs": [
    {
     "name": "stdout",
     "output_type": "stream",
     "text": [
      "Accuracy: 0.9477545459309333\n",
      "Confusion Matrix:\n",
      "[[18084    21]\n",
      " [  976     2]]\n",
      "Classification Report:\n",
      "              precision    recall  f1-score   support\n",
      "\n",
      "           0       0.95      1.00      0.97     18105\n",
      "           1       0.09      0.00      0.00       978\n",
      "\n",
      "    accuracy                           0.95     19083\n",
      "   macro avg       0.52      0.50      0.49     19083\n",
      "weighted avg       0.90      0.95      0.92     19083\n",
      "\n"
     ]
    }
   ],
   "source": [
    "import pandas as pd\n",
    "from imblearn.over_sampling import RandomOverSampler\n",
    "from sklearn.model_selection import train_test_split\n",
    "from sklearn.ensemble import RandomForestClassifier\n",
    "from sklearn.metrics import accuracy_score, classification_report, confusion_matrix\n",
    "\n",
    "X = pd.concat([categorical_data, numerical_data], axis=1)\n",
    "\n",
    "# One-hot encode categorical features\n",
    "X = pd.get_dummies(X, columns=categorical_data.columns)\n",
    "\n",
    "# Extracting target variable (y)\n",
    "y = target_data['TARGET_B']\n",
    "\n",
    "# Performing train-test split\n",
    "X_train, X_test, y_train, y_test = train_test_split(X, y, test_size=0.2, random_state=42)\n",
    "\n",
    "# Using RandomOverSampler to upsample the minority class\n",
    "ros = RandomOverSampler(random_state=42)\n",
    "X_train_resampled, y_train_resampled = ros.fit_resample(X_train, y_train)\n",
    "\n",
    "# Initializing and training the Random Forest Classifier on the resampled data\n",
    "clf = RandomForestClassifier(random_state=42)\n",
    "clf.fit(X_train_resampled, y_train_resampled)\n",
    "\n",
    "# Make predictions on the test set\n",
    "y_pred = clf.predict(X_test)\n",
    "\n",
    "# Evaluating the model\n",
    "accuracy = accuracy_score(y_test, y_pred)\n",
    "conf_matrix = confusion_matrix(y_test, y_pred)\n",
    "class_report = classification_report(y_test, y_pred)\n",
    "\n",
    "print(f'Accuracy: {accuracy}')\n",
    "print(f'Confusion Matrix:\\n{conf_matrix}')\n",
    "print(f'Classification Report:\\n{class_report}')\n",
    "\n",
    "\n"
   ]
  },
  {
   "cell_type": "markdown",
   "id": "031c6133",
   "metadata": {},
   "source": [
    "The model has high accuracy of 94% but struggles with correctly identifying the minority class.\n",
    "In a business scenario, this could lead to missing important positive instances, impacting decision-making."
   ]
  },
  {
   "cell_type": "code",
   "execution_count": 14,
   "id": "4c4be5eb",
   "metadata": {},
   "outputs": [
    {
     "name": "stdout",
     "output_type": "stream",
     "text": [
      "Precision: 0.08695652173913043\n",
      "Recall: 0.002044989775051125\n",
      "F1-Score: 0.003996003996003996\n",
      "AUC-ROC: 0.5703642803934558\n"
     ]
    }
   ],
   "source": [
    "#Evaluation matrix\n",
    "from sklearn.metrics import precision_score, recall_score, f1_score, roc_auc_score\n",
    "\n",
    "precision = precision_score(y_test, y_pred)\n",
    "recall = recall_score(y_test, y_pred)\n",
    "f1 = f1_score(y_test, y_pred)\n",
    "roc_auc = roc_auc_score(y_test, clf.predict_proba(X_test)[:, 1])\n",
    "\n",
    "print(f'Precision: {precision}')\n",
    "print(f'Recall: {recall}')\n",
    "print(f'F1-Score: {f1}')\n",
    "print(f'AUC-ROC: {roc_auc}')\n"
   ]
  },
  {
   "cell_type": "code",
   "execution_count": 15,
   "id": "4055b33f",
   "metadata": {},
   "outputs": [],
   "source": [
    "from sklearn.utils import resample\n",
    "\n",
    "# Concatenate X_train and y_train to create a training dataset\n",
    "train_data = pd.concat([X_train, y_train], axis=1)\n",
    "\n",
    "majority_class = train_data[train_data['TARGET_B'] == 0]\n",
    "minority_class = train_data[train_data['TARGET_B'] == 1]\n",
    "\n",
    "# Upsampling the minority class\n",
    "minority_upsampled = resample(minority_class, replace=True, n_samples=len(majority_class), random_state=42)\n",
    "\n",
    "# Combining majority class with upsampled minority class\n",
    "upsampled_data = pd.concat([majority_class, minority_upsampled])\n",
    "\n",
    "# Separated features (X_upsampled) and target variable (y_upsampled) in the upsampled data\n",
    "X_upsampled = upsampled_data.drop('TARGET_B', axis=1)\n",
    "y_upsampled = upsampled_data['TARGET_B']\n",
    "\n"
   ]
  },
  {
   "cell_type": "code",
   "execution_count": null,
   "id": "0c33466b",
   "metadata": {},
   "outputs": [],
   "source": [
    "#We used above Upsampling the minority class in order to predict better the TARGET_B"
   ]
  },
  {
   "cell_type": "code",
   "execution_count": 16,
   "id": "9388472d",
   "metadata": {},
   "outputs": [
    {
     "name": "stdout",
     "output_type": "stream",
     "text": [
      "Accuracy (Upsampled): 0.947702143268878\n",
      "Confusion Matrix (Upsampled):\n",
      "[[18083    22]\n",
      " [  976     2]]\n",
      "Classification Report (Upsampled):\n",
      "              precision    recall  f1-score   support\n",
      "\n",
      "           0       0.95      1.00      0.97     18105\n",
      "           1       0.08      0.00      0.00       978\n",
      "\n",
      "    accuracy                           0.95     19083\n",
      "   macro avg       0.52      0.50      0.49     19083\n",
      "weighted avg       0.90      0.95      0.92     19083\n",
      "\n"
     ]
    }
   ],
   "source": [
    "from sklearn.ensemble import RandomForestClassifier\n",
    "from sklearn.metrics import accuracy_score, classification_report, confusion_matrix\n",
    "\n",
    "# Initialize and train the Random Forest Classifier on the upsampled data\n",
    "clf_upsampled = RandomForestClassifier(random_state=42)\n",
    "clf_upsampled.fit(X_upsampled, y_upsampled)\n",
    "\n",
    "# Make predictions on the original test set\n",
    "y_pred_upsampled = clf_upsampled.predict(X_test)\n",
    "\n",
    "# Evaluate the model\n",
    "accuracy_upsampled = accuracy_score(y_test, y_pred_upsampled)\n",
    "conf_matrix_upsampled = confusion_matrix(y_test, y_pred_upsampled)\n",
    "class_report_upsampled = classification_report(y_test, y_pred_upsampled)\n",
    "\n",
    "# Display the results\n",
    "print(f'Accuracy (Upsampled): {accuracy_upsampled}')\n",
    "print(f'Confusion Matrix (Upsampled):\\n{conf_matrix_upsampled}')\n",
    "print(f'Classification Report (Upsampled):\\n{class_report_upsampled}')\n"
   ]
  },
  {
   "cell_type": "markdown",
   "id": "fdd6084f",
   "metadata": {},
   "source": [
    "#Model Predictions and Business Impact:\n",
    "\n",
    "1.False Positives (Predicting a donor when they are not):\n",
    "\n",
    "This could lead to unnecessary marketing expenses, efforts, and resources being allocated to individuals who are not interested in donating. The business might spend money on outreach or incentives that do not result in actual contributions.\n",
    "Cost Consideration: If the cost associated with these false positives is high, it might have a significant impact on the budget and resource allocation.\n",
    "\n",
    "2.False Negatives (Failing to identify an actual donor):\n",
    "\n",
    "This could result in missed opportunities for fundraising. Potential donors who are not identified might not receive targeted campaigns or engagement efforts, leading to a loss in potential contributions.\n",
    "Cost Consideration: If the business heavily relies on donations and the potential contribution from each donor is substantial, missing out on these opportunities could result in a significant revenue loss.\n",
    "Equality of Costs:\n",
    "\n",
    "The model's performance metrics indicate a low recall for the positive class, suggesting that it is struggling to identify actual donors. This means there is a higher likelihood of false negatives (missing actual donors).\n",
    "\n",
    "If the cost of missing out on potential donors (false negatives) is deemed to be higher than the cost associated with targeting non-donors (false positives), the business may consider adjusting the model's threshold to increase recall, even at the expense of precision."
   ]
  },
  {
   "cell_type": "code",
   "execution_count": 21,
   "id": "4cff4d18",
   "metadata": {},
   "outputs": [],
   "source": [
    "import pandas as pd\n",
    "\n",
    "# Reset index for each dataset\n",
    "X_reset = X.reset_index(drop=True)\n",
    "X_upsampled_reset = X_upsampled.reset_index(drop=True)\n",
    "categorical_data_reset = categorical_data.reset_index(drop=True)\n",
    "\n",
    "# Concatenate along columns (axis=1)\n",
    "concatenated_data = pd.concat([X_reset, X_upsampled_reset, categorical_data_reset], axis=1)\n"
   ]
  },
  {
   "cell_type": "code",
   "execution_count": 24,
   "id": "c8e65d68",
   "metadata": {},
   "outputs": [
    {
     "data": {
      "text/html": [
       "<div>\n",
       "<style scoped>\n",
       "    .dataframe tbody tr th:only-of-type {\n",
       "        vertical-align: middle;\n",
       "    }\n",
       "\n",
       "    .dataframe tbody tr th {\n",
       "        vertical-align: top;\n",
       "    }\n",
       "\n",
       "    .dataframe thead th {\n",
       "        text-align: right;\n",
       "    }\n",
       "</style>\n",
       "<table border=\"1\" class=\"dataframe\">\n",
       "  <thead>\n",
       "    <tr style=\"text-align: right;\">\n",
       "      <th></th>\n",
       "      <th>TCODE</th>\n",
       "      <th>AGE</th>\n",
       "      <th>INCOME</th>\n",
       "      <th>WEALTH1</th>\n",
       "      <th>HIT</th>\n",
       "      <th>MALEMILI</th>\n",
       "      <th>MALEVET</th>\n",
       "      <th>VIETVETS</th>\n",
       "      <th>WWIIVETS</th>\n",
       "      <th>LOCALGOV</th>\n",
       "      <th>...</th>\n",
       "      <th>DOB_YR</th>\n",
       "      <th>DOB_MM</th>\n",
       "      <th>MINRDATE_YR</th>\n",
       "      <th>MINRDATE_MM</th>\n",
       "      <th>MAXRDATE_YR</th>\n",
       "      <th>MAXRDATE_MM</th>\n",
       "      <th>LASTDATE_YR</th>\n",
       "      <th>LASTDATE_MM</th>\n",
       "      <th>FIRSTDATE_YR</th>\n",
       "      <th>FIRSTDATE_MM</th>\n",
       "    </tr>\n",
       "  </thead>\n",
       "  <tbody>\n",
       "    <tr>\n",
       "      <th>0</th>\n",
       "      <td>0.0</td>\n",
       "      <td>60.000000</td>\n",
       "      <td>5.0</td>\n",
       "      <td>9.0</td>\n",
       "      <td>0.0</td>\n",
       "      <td>0.0</td>\n",
       "      <td>39.0</td>\n",
       "      <td>34.0</td>\n",
       "      <td>18.0</td>\n",
       "      <td>10.0</td>\n",
       "      <td>...</td>\n",
       "      <td>37.0</td>\n",
       "      <td>12.0</td>\n",
       "      <td>92.0</td>\n",
       "      <td>8.0</td>\n",
       "      <td>94.0</td>\n",
       "      <td>2.0</td>\n",
       "      <td>95.0</td>\n",
       "      <td>12.0</td>\n",
       "      <td>89.0</td>\n",
       "      <td>11.0</td>\n",
       "    </tr>\n",
       "    <tr>\n",
       "      <th>1</th>\n",
       "      <td>1.0</td>\n",
       "      <td>46.000000</td>\n",
       "      <td>6.0</td>\n",
       "      <td>9.0</td>\n",
       "      <td>16.0</td>\n",
       "      <td>0.0</td>\n",
       "      <td>15.0</td>\n",
       "      <td>55.0</td>\n",
       "      <td>11.0</td>\n",
       "      <td>6.0</td>\n",
       "      <td>...</td>\n",
       "      <td>52.0</td>\n",
       "      <td>2.0</td>\n",
       "      <td>93.0</td>\n",
       "      <td>10.0</td>\n",
       "      <td>95.0</td>\n",
       "      <td>12.0</td>\n",
       "      <td>95.0</td>\n",
       "      <td>12.0</td>\n",
       "      <td>93.0</td>\n",
       "      <td>10.0</td>\n",
       "    </tr>\n",
       "    <tr>\n",
       "      <th>2</th>\n",
       "      <td>1.0</td>\n",
       "      <td>61.611649</td>\n",
       "      <td>3.0</td>\n",
       "      <td>1.0</td>\n",
       "      <td>2.0</td>\n",
       "      <td>0.0</td>\n",
       "      <td>20.0</td>\n",
       "      <td>29.0</td>\n",
       "      <td>33.0</td>\n",
       "      <td>6.0</td>\n",
       "      <td>...</td>\n",
       "      <td>0.0</td>\n",
       "      <td>2.0</td>\n",
       "      <td>91.0</td>\n",
       "      <td>11.0</td>\n",
       "      <td>92.0</td>\n",
       "      <td>7.0</td>\n",
       "      <td>95.0</td>\n",
       "      <td>12.0</td>\n",
       "      <td>90.0</td>\n",
       "      <td>1.0</td>\n",
       "    </tr>\n",
       "    <tr>\n",
       "      <th>3</th>\n",
       "      <td>0.0</td>\n",
       "      <td>70.000000</td>\n",
       "      <td>1.0</td>\n",
       "      <td>4.0</td>\n",
       "      <td>2.0</td>\n",
       "      <td>0.0</td>\n",
       "      <td>23.0</td>\n",
       "      <td>14.0</td>\n",
       "      <td>31.0</td>\n",
       "      <td>3.0</td>\n",
       "      <td>...</td>\n",
       "      <td>28.0</td>\n",
       "      <td>1.0</td>\n",
       "      <td>87.0</td>\n",
       "      <td>11.0</td>\n",
       "      <td>94.0</td>\n",
       "      <td>11.0</td>\n",
       "      <td>95.0</td>\n",
       "      <td>12.0</td>\n",
       "      <td>87.0</td>\n",
       "      <td>2.0</td>\n",
       "    </tr>\n",
       "    <tr>\n",
       "      <th>4</th>\n",
       "      <td>0.0</td>\n",
       "      <td>78.000000</td>\n",
       "      <td>3.0</td>\n",
       "      <td>2.0</td>\n",
       "      <td>60.0</td>\n",
       "      <td>1.0</td>\n",
       "      <td>28.0</td>\n",
       "      <td>9.0</td>\n",
       "      <td>53.0</td>\n",
       "      <td>26.0</td>\n",
       "      <td>...</td>\n",
       "      <td>20.0</td>\n",
       "      <td>1.0</td>\n",
       "      <td>93.0</td>\n",
       "      <td>10.0</td>\n",
       "      <td>96.0</td>\n",
       "      <td>1.0</td>\n",
       "      <td>96.0</td>\n",
       "      <td>1.0</td>\n",
       "      <td>79.0</td>\n",
       "      <td>3.0</td>\n",
       "    </tr>\n",
       "  </tbody>\n",
       "</table>\n",
       "<p>5 rows × 1334 columns</p>\n",
       "</div>"
      ],
      "text/plain": [
       "   TCODE        AGE  INCOME  WEALTH1   HIT  MALEMILI  MALEVET  VIETVETS  \\\n",
       "0    0.0  60.000000     5.0      9.0   0.0       0.0     39.0      34.0   \n",
       "1    1.0  46.000000     6.0      9.0  16.0       0.0     15.0      55.0   \n",
       "2    1.0  61.611649     3.0      1.0   2.0       0.0     20.0      29.0   \n",
       "3    0.0  70.000000     1.0      4.0   2.0       0.0     23.0      14.0   \n",
       "4    0.0  78.000000     3.0      2.0  60.0       1.0     28.0       9.0   \n",
       "\n",
       "   WWIIVETS  LOCALGOV  ...  DOB_YR  DOB_MM  MINRDATE_YR  MINRDATE_MM  \\\n",
       "0      18.0      10.0  ...    37.0    12.0         92.0          8.0   \n",
       "1      11.0       6.0  ...    52.0     2.0         93.0         10.0   \n",
       "2      33.0       6.0  ...     0.0     2.0         91.0         11.0   \n",
       "3      31.0       3.0  ...    28.0     1.0         87.0         11.0   \n",
       "4      53.0      26.0  ...    20.0     1.0         93.0         10.0   \n",
       "\n",
       "   MAXRDATE_YR  MAXRDATE_MM  LASTDATE_YR  LASTDATE_MM  FIRSTDATE_YR  \\\n",
       "0         94.0          2.0         95.0         12.0          89.0   \n",
       "1         95.0         12.0         95.0         12.0          93.0   \n",
       "2         92.0          7.0         95.0         12.0          90.0   \n",
       "3         94.0         11.0         95.0         12.0          87.0   \n",
       "4         96.0          1.0         96.0          1.0          79.0   \n",
       "\n",
       "   FIRSTDATE_MM  \n",
       "0          11.0  \n",
       "1          10.0  \n",
       "2           1.0  \n",
       "3           2.0  \n",
       "4           3.0  \n",
       "\n",
       "[5 rows x 1334 columns]"
      ]
     },
     "execution_count": 24,
     "metadata": {},
     "output_type": "execute_result"
    }
   ],
   "source": [
    "concatenated_data.head()\n",
    "\n"
   ]
  },
  {
   "cell_type": "code",
   "execution_count": 26,
   "id": "698f906b",
   "metadata": {},
   "outputs": [
    {
     "name": "stdout",
     "output_type": "stream",
     "text": [
      "Index(['TCODE', 'AGE', 'INCOME', 'WEALTH1', 'HIT', 'MALEMILI', 'MALEVET',\n",
      "       'VIETVETS', 'WWIIVETS', 'LOCALGOV',\n",
      "       ...\n",
      "       'DOB_YR', 'DOB_MM', 'MINRDATE_YR', 'MINRDATE_MM', 'MAXRDATE_YR',\n",
      "       'MAXRDATE_MM', 'LASTDATE_YR', 'LASTDATE_MM', 'FIRSTDATE_YR',\n",
      "       'FIRSTDATE_MM'],\n",
      "      dtype='object', length=1334)\n"
     ]
    }
   ],
   "source": [
    "print(concatenated_data.columns)\n"
   ]
  },
  {
   "cell_type": "code",
   "execution_count": 19,
   "id": "f116a261",
   "metadata": {},
   "outputs": [
    {
     "name": "stdout",
     "output_type": "stream",
     "text": [
      "Column 'TARGET_D' not found in the dataset.\n"
     ]
    }
   ],
   "source": [
    "# Identifying false negatives\n",
    "false_negatives = (y_test == 1) & (y_pred == 0)\n",
    "\n",
    "# Check if 'TARGET_D' is present in categorical_data\n",
    "if 'TARGET_D' in categorical_data.columns:\n",
    "    # Calculate potential loss (sum of TARGET_D for false negatives)\n",
    "    potential_loss = categorical_data.loc[false_negatives, 'TARGET_D'].sum()\n",
    "    print(f\"Potential Loss: ${potential_loss:.2f}\")\n",
    "else:\n",
    "    print(\"Column 'TARGET_D' not found in the dataset.\")\n"
   ]
  },
  {
   "cell_type": "code",
   "execution_count": null,
   "id": "82a165ee",
   "metadata": {},
   "outputs": [],
   "source": [
    "print(\"Length of target_data['TARGET_B']:\", len(target_data['TARGET_B']))\n",
    "print(\"Length of y_pred:\", len(y_pred))\n"
   ]
  },
  {
   "cell_type": "code",
   "execution_count": null,
   "id": "459172e0",
   "metadata": {},
   "outputs": [],
   "source": [
    "from sklearn.ensemble import RandomForestClassifier\n",
    "from sklearn.model_selection import train_test_split\n",
    "\n",
    "\n",
    "clf = RandomForestClassifier(random_state=42)\n",
    "clf.fit(X_train_resampled, y_train_resampled)\n"
   ]
  },
  {
   "cell_type": "code",
   "execution_count": null,
   "id": "3d0c1d61",
   "metadata": {},
   "outputs": [],
   "source": [
    "print(\"Length of false_negatives:\", len(false_negatives))\n",
    "print(\"Length of y_pred:\", len(y_pred))\n"
   ]
  },
  {
   "cell_type": "code",
   "execution_count": null,
   "id": "a6fe95d8",
   "metadata": {},
   "outputs": [],
   "source": [
    "print(\"Length of X_test:\", len(X_test))\n",
    "print(\"Length of y_pred:\", len(y_pred))\n"
   ]
  },
  {
   "cell_type": "code",
   "execution_count": null,
   "id": "79e99261",
   "metadata": {},
   "outputs": [],
   "source": [
    "print(\"Index of X_test:\", X_test.index)\n",
    "print(\"Index of target_data['TARGET_B']:\", target_data['TARGET_B'].index)\n"
   ]
  },
  {
   "cell_type": "code",
   "execution_count": null,
   "id": "f422bef2",
   "metadata": {},
   "outputs": [],
   "source": [
    "#there are different lengths of the arrays from false_negatives and \"Y-prediction\""
   ]
  },
  {
   "cell_type": "code",
   "execution_count": null,
   "id": "6fbb41f2",
   "metadata": {},
   "outputs": [],
   "source": [
    "from sklearn.model_selection import GridSearchCV\n",
    "from sklearn.metrics import make_scorer, f1_score\n",
    "from sklearn.ensemble import RandomForestClassifier\n",
    "\n",
    "\n",
    "# Defining the classifier\n",
    "clf = RandomForestClassifier(random_state=42)\n",
    "\n",
    "# Defining the parameter grid to search\n",
    "param_grid = {\n",
    "    'n_estimators': [100, 200, 300],\n",
    "    'max_depth': [None, 10, 20],\n",
    "    'min_samples_split': [2, 5, 10],\n",
    "    'min_samples_leaf': [1, 2, 4]\n",
    "}\n",
    "\n",
    "# Creating a scorer based on F1-score\n",
    "scorer = make_scorer(f1_score)\n",
    "\n",
    "# Initializing GridSearchCV\n",
    "grid_search = GridSearchCV(clf, param_grid, scoring=scorer, cv=5)\n",
    "\n",
    "# Fitting the model\n",
    "grid_search.fit(X_train, y_train)\n",
    "\n",
    "# Getting the best parameters\n",
    "best_params = grid_search.best_params_\n",
    "\n",
    "# Training the model with the best parameters\n",
    "best_clf = RandomForestClassifier(random_state=42, **best_params)\n",
    "best_clf.fit(X_train, y_train)\n"
   ]
  },
  {
   "cell_type": "markdown",
   "id": "f286fa06",
   "metadata": {},
   "source": [
    "In imbalanced classification problems, metrics like precision, recall, and F1-score are more relevant than accuracy. \n",
    "\n",
    "We will train our model using GridSearchCV classification model in order to maximize the error metric."
   ]
  },
  {
   "cell_type": "markdown",
   "id": "c0a19c17",
   "metadata": {},
   "source": [
    "A model can achieve high accuracy by simply predicting the majority class, without effectively capturing the minority class.\n",
    "\n",
    "A more relevant error metric in such cases is often the F1-score, especially when you care about balancing precision and recall. The F1-score considers both false positives and false negatives, making it a suitable choice for imbalanced datasets.\n"
   ]
  },
  {
   "cell_type": "code",
   "execution_count": null,
   "id": "51290a45",
   "metadata": {},
   "outputs": [],
   "source": []
  }
 ],
 "metadata": {
  "kernelspec": {
   "display_name": "Python 3 (ipykernel)",
   "language": "python",
   "name": "python3"
  },
  "language_info": {
   "codemirror_mode": {
    "name": "ipython",
    "version": 3
   },
   "file_extension": ".py",
   "mimetype": "text/x-python",
   "name": "python",
   "nbconvert_exporter": "python",
   "pygments_lexer": "ipython3",
   "version": "3.11.7"
  }
 },
 "nbformat": 4,
 "nbformat_minor": 5
}
